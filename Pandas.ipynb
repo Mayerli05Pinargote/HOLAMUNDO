{
  "nbformat": 4,
  "nbformat_minor": 0,
  "metadata": {
    "colab": {
      "provenance": [],
      "authorship_tag": "ABX9TyN33R6i/DDSTHLohpZED00O",
      "include_colab_link": true
    },
    "kernelspec": {
      "name": "python3",
      "display_name": "Python 3"
    },
    "language_info": {
      "name": "python"
    }
  },
  "cells": [
    {
      "cell_type": "markdown",
      "metadata": {
        "id": "view-in-github",
        "colab_type": "text"
      },
      "source": [
        "<a href=\"https://colab.research.google.com/github/Mayerli05Pinargote/HOLAMUNDO/blob/main/Pandas.ipynb\" target=\"_parent\"><img src=\"https://colab.research.google.com/assets/colab-badge.svg\" alt=\"Open In Colab\"/></a>"
      ]
    },
    {
      "cell_type": "markdown",
      "source": [
        " **Cargar base de datos**"
      ],
      "metadata": {
        "id": "putIVxLmZFu8"
      }
    },
    {
      "cell_type": "code",
      "execution_count": null,
      "metadata": {
        "id": "14RukHN3G2IJ"
      },
      "outputs": [],
      "source": [
        "url='https://raw.githubusercontent.com/Sinchiguano/chicagoUniversity/main/cta_Ridership.csv'"
      ]
    },
    {
      "cell_type": "markdown",
      "source": [
        "Exploracion de la base de datos"
      ],
      "metadata": {
        "id": "jkRacqa7ciij"
      }
    },
    {
      "cell_type": "code",
      "source": [
        "import pandas as pd\n",
        "data = pd.read_csv(url)\n",
        "print (data.head(5))\n",
        "print (data.shape)"
      ],
      "metadata": {
        "colab": {
          "base_uri": "https://localhost:8080/"
        },
        "id": "1OvrriR2Wmqd",
        "outputId": "c604a9e5-42e5-4030-c03e-1128c22f6d3e"
      },
      "execution_count": null,
      "outputs": [
        {
          "output_type": "stream",
          "name": "stdout",
          "text": [
            "   station_id       stationname        date daytype  rides\n",
            "0       41280    Jefferson Park  12/22/2017       W   6104\n",
            "1       41000  Cermak-Chinatown  12/18/2017       W   3636\n",
            "2       40280      Central-Lake  12/02/2017       A   1270\n",
            "3       40140   Dempster-Skokie  12/19/2017       W   1759\n",
            "4       40690          Dempster  12/03/2017       U    499\n",
            "(1145586, 5)\n"
          ]
        }
      ]
    },
    {
      "cell_type": "code",
      "source": [
        "print (data.tail(5))"
      ],
      "metadata": {
        "colab": {
          "base_uri": "https://localhost:8080/"
        },
        "id": "rlVszEulduHJ",
        "outputId": "49324b0c-96c8-45df-9683-fc1a2155fecc"
      },
      "execution_count": null,
      "outputs": [
        {
          "output_type": "stream",
          "name": "stdout",
          "text": [
            "         station_id        stationname        date daytype  rides\n",
            "1145581       41700  Washington/Wabash  12/27/2022       W   3991\n",
            "1145582       41700  Washington/Wabash  12/28/2022       W   4100\n",
            "1145583       41700  Washington/Wabash  12/29/2022       W   4741\n",
            "1145584       41700  Washington/Wabash  12/30/2022       W   4664\n",
            "1145585       41700  Washington/Wabash  12/31/2022       A   2774\n"
          ]
        }
      ]
    },
    {
      "cell_type": "code",
      "source": [
        "print (data.dtypes)"
      ],
      "metadata": {
        "colab": {
          "base_uri": "https://localhost:8080/"
        },
        "id": "Bp0N7EjIdyI4",
        "outputId": "804d1bc2-2c14-42f6-f006-10298869e075"
      },
      "execution_count": null,
      "outputs": [
        {
          "output_type": "stream",
          "name": "stdout",
          "text": [
            "station_id      int64\n",
            "stationname    object\n",
            "date           object\n",
            "daytype        object\n",
            "rides           int64\n",
            "dtype: object\n"
          ]
        }
      ]
    },
    {
      "cell_type": "markdown",
      "source": [
        "Describir el modulo"
      ],
      "metadata": {
        "id": "4KsCiUUCcoEb"
      }
    },
    {
      "cell_type": "code",
      "source": [
        "data.describe"
      ],
      "metadata": {
        "colab": {
          "base_uri": "https://localhost:8080/"
        },
        "id": "E9Mg8YlActIy",
        "outputId": "a2ca6dfe-6f17-4877-de42-5eac1c1b4c28"
      },
      "execution_count": null,
      "outputs": [
        {
          "output_type": "execute_result",
          "data": {
            "text/plain": [
              "<bound method NDFrame.describe of          station_id        stationname        date daytype  rides\n",
              "0             41280     Jefferson Park  12/22/2017       W   6104\n",
              "1             41000   Cermak-Chinatown  12/18/2017       W   3636\n",
              "2             40280       Central-Lake  12/02/2017       A   1270\n",
              "3             40140    Dempster-Skokie  12/19/2017       W   1759\n",
              "4             40690           Dempster  12/03/2017       U    499\n",
              "...             ...                ...         ...     ...    ...\n",
              "1145581       41700  Washington/Wabash  12/27/2022       W   3991\n",
              "1145582       41700  Washington/Wabash  12/28/2022       W   4100\n",
              "1145583       41700  Washington/Wabash  12/29/2022       W   4741\n",
              "1145584       41700  Washington/Wabash  12/30/2022       W   4664\n",
              "1145585       41700  Washington/Wabash  12/31/2022       A   2774\n",
              "\n",
              "[1145586 rows x 5 columns]>"
            ]
          },
          "metadata": {},
          "execution_count": 32
        }
      ]
    },
    {
      "cell_type": "markdown",
      "source": [
        "Valor Minimo"
      ],
      "metadata": {
        "id": "fTg8MZmXfcZS"
      }
    },
    {
      "cell_type": "code",
      "source": [
        "data['rides'].min()"
      ],
      "metadata": {
        "colab": {
          "base_uri": "https://localhost:8080/"
        },
        "id": "Ubegr-NGfZNk",
        "outputId": "7076948f-031d-4ad9-86a7-d98a600e01ef"
      },
      "execution_count": null,
      "outputs": [
        {
          "output_type": "execute_result",
          "data": {
            "text/plain": [
              "0"
            ]
          },
          "metadata": {},
          "execution_count": 33
        }
      ]
    },
    {
      "cell_type": "markdown",
      "source": [
        "Valor maximo"
      ],
      "metadata": {
        "id": "uv19jnTpfljw"
      }
    },
    {
      "cell_type": "code",
      "source": [
        "data['rides'].max()"
      ],
      "metadata": {
        "colab": {
          "base_uri": "https://localhost:8080/"
        },
        "id": "gn6-mjCdetzZ",
        "outputId": "b2249c22-1cd8-43db-8474-69017b9f0d13"
      },
      "execution_count": null,
      "outputs": [
        {
          "output_type": "execute_result",
          "data": {
            "text/plain": [
              "36323"
            ]
          },
          "metadata": {},
          "execution_count": 34
        }
      ]
    },
    {
      "cell_type": "markdown",
      "source": [
        "indice de tiempo"
      ],
      "metadata": {
        "id": "kaQZdD8wocq6"
      }
    },
    {
      "cell_type": "code",
      "source": [
        "data.describe"
      ],
      "metadata": {
        "colab": {
          "base_uri": "https://localhost:8080/"
        },
        "id": "dDmeUg5Mok8I",
        "outputId": "62a3075b-c731-4215-cc7b-627d6afabd7c"
      },
      "execution_count": null,
      "outputs": [
        {
          "output_type": "execute_result",
          "data": {
            "text/plain": [
              "<bound method NDFrame.describe of          station_id        stationname        date daytype  rides\n",
              "0             41280     Jefferson Park  12/22/2017       W   6104\n",
              "1             41000   Cermak-Chinatown  12/18/2017       W   3636\n",
              "2             40280       Central-Lake  12/02/2017       A   1270\n",
              "3             40140    Dempster-Skokie  12/19/2017       W   1759\n",
              "4             40690           Dempster  12/03/2017       U    499\n",
              "...             ...                ...         ...     ...    ...\n",
              "1145581       41700  Washington/Wabash  12/27/2022       W   3991\n",
              "1145582       41700  Washington/Wabash  12/28/2022       W   4100\n",
              "1145583       41700  Washington/Wabash  12/29/2022       W   4741\n",
              "1145584       41700  Washington/Wabash  12/30/2022       W   4664\n",
              "1145585       41700  Washington/Wabash  12/31/2022       A   2774\n",
              "\n",
              "[1145586 rows x 5 columns]>"
            ]
          },
          "metadata": {},
          "execution_count": 45
        }
      ]
    },
    {
      "cell_type": "markdown",
      "source": [
        "**HASTA AQUÍ ENTENDÍ Y LLEGUÉ INGE**"
      ],
      "metadata": {
        "id": "2v7bu4h1tc4T"
      }
    }
  ]
}