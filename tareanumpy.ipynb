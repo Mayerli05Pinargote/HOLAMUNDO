{
  "nbformat": 4,
  "nbformat_minor": 0,
  "metadata": {
    "colab": {
      "provenance": [],
      "authorship_tag": "ABX9TyMpofIzUKU8OnUDdEYZ48ud",
      "include_colab_link": true
    },
    "kernelspec": {
      "name": "python3",
      "display_name": "Python 3"
    },
    "language_info": {
      "name": "python"
    }
  },
  "cells": [
    {
      "cell_type": "markdown",
      "metadata": {
        "id": "view-in-github",
        "colab_type": "text"
      },
      "source": [
        "<a href=\"https://colab.research.google.com/github/Mayerli05Pinargote/HOLAMUNDO/blob/main/tareanumpy.ipynb\" target=\"_parent\"><img src=\"https://colab.research.google.com/assets/colab-badge.svg\" alt=\"Open In Colab\"/></a>"
      ]
    },
    {
      "cell_type": "markdown",
      "source": [],
      "metadata": {
        "id": "qr_V3KqTNuhk"
      }
    },
    {
      "cell_type": "markdown",
      "source": [
        "tarea"
      ],
      "metadata": {
        "id": "rNk1W51VNwgZ"
      }
    },
    {
      "cell_type": "code",
      "source": [
        "import numpy as np\n",
        "\n",
        "print(\"NumPy version:\", np.version.version)\n",
        "\n",
        "pass"
      ],
      "metadata": {
        "colab": {
          "base_uri": "https://localhost:8080/"
        },
        "id": "zTGiKiIVNxaB",
        "outputId": "3e4166c8-c13c-4344-8a87-67e3c04b5320"
      },
      "execution_count": 1,
      "outputs": [
        {
          "output_type": "stream",
          "name": "stdout",
          "text": [
            "NumPy version: 1.22.4\n"
          ]
        }
      ]
    },
    {
      "cell_type": "code",
      "source": [
        "#Create a 1D array of numbers from 0 to 9\n",
        "\n",
        "arr = np.arange(10)\n",
        "print(arr)\n",
        "pass"
      ],
      "metadata": {
        "colab": {
          "base_uri": "https://localhost:8080/"
        },
        "id": "5rqBkEvrN104",
        "outputId": "5333aabf-e6c8-40be-a018-36a26dd39222"
      },
      "execution_count": 2,
      "outputs": [
        {
          "output_type": "stream",
          "name": "stdout",
          "text": [
            "[0 1 2 3 4 5 6 7 8 9]\n"
          ]
        }
      ]
    },
    {
      "cell_type": "code",
      "source": [
        "#Create a 3×3 numpy array of all True’s\n",
        "import numpy as np\n",
        "\n",
        "arra = np.ones((3, 3), dtype=int)\n",
        "arra = arr.astype(bool)\n",
        "print(arr)\n",
        "pass"
      ],
      "metadata": {
        "colab": {
          "base_uri": "https://localhost:8080/"
        },
        "id": "_kuucGkhN5gZ",
        "outputId": "3d7918f8-2b99-4495-95fd-6b3cf904858b"
      },
      "execution_count": 3,
      "outputs": [
        {
          "output_type": "stream",
          "name": "stdout",
          "text": [
            "[0 1 2 3 4 5 6 7 8 9]\n"
          ]
        }
      ]
    },
    {
      "cell_type": "code",
      "source": [
        "#Extract all odd numbers from arr\n",
        "import numpy as np\n",
        "matriz = np.random.randint(1, 20, size=(5, 3))\n",
        "print(\"Matriz original:\")\n",
        "print(matriz)\n",
        "\n",
        "# Extraer los números impares de la matriz\n",
        "impares = []\n",
        "for i in range(len(matriz)):\n",
        "    for j in range(len(matriz[i])):\n",
        "        if matriz[i][j] % 2 != 0:\n",
        "            impares.append(matriz[i][j])\n",
        "\n",
        "print(\"Números impares:\", impares)\n",
        "\n",
        "pass"
      ],
      "metadata": {
        "colab": {
          "base_uri": "https://localhost:8080/"
        },
        "id": "3HwNE1YQN-CZ",
        "outputId": "f69a4d8f-7642-4475-d789-4b196c241d80"
      },
      "execution_count": 8,
      "outputs": [
        {
          "output_type": "stream",
          "name": "stdout",
          "text": [
            "Matriz original:\n",
            "[[15  5 15]\n",
            " [ 5 19 13]\n",
            " [13 11  6]\n",
            " [15 15  6]\n",
            " [13 10 16]]\n",
            "Números impares: [15, 5, 15, 5, 19, 13, 13, 11, 15, 15, 13]\n"
          ]
        }
      ]
    },
    {
      "cell_type": "code",
      "source": [
        "#Replace all odd numbers in arr with -1\n",
        "import random\n",
        "\n",
        "# Crear una matriz de 3x3 con números aleatorios entre 1 y 10\n",
        "matriz = [[random.randint(1, 10) for j in range(3)] for i in range(3)]\n",
        "print(\"Matriz de números aleatorios:\")\n",
        "for fila in matriz:\n",
        "    print(fila)\n",
        "\n",
        "# Extraer los números impares de la matriz y reemplazarlos por -1\n",
        "for i in range(len(matriz)):\n",
        "    for j in range(len(matriz[i])):\n",
        "        if matriz[i][j] % 2 != 0:\n",
        "            matriz[i][j] = -1\n",
        "\n",
        "print(\"Matriz con números impares reemplazados por -1:\")\n",
        "for fila in matriz:\n",
        "    print(fila)\n",
        "pass"
      ],
      "metadata": {
        "colab": {
          "base_uri": "https://localhost:8080/"
        },
        "id": "t5uEOJReOjlj",
        "outputId": "ae727e7f-3f9e-4236-a02b-555bfc405569"
      },
      "execution_count": 9,
      "outputs": [
        {
          "output_type": "stream",
          "name": "stdout",
          "text": [
            "Matriz de números aleatorios:\n",
            "[2, 2, 4]\n",
            "[10, 9, 3]\n",
            "[8, 5, 4]\n",
            "Matriz con números impares reemplazados por -1:\n",
            "[2, 2, 4]\n",
            "[10, -1, -1]\n",
            "[8, -1, 4]\n"
          ]
        }
      ]
    },
    {
      "cell_type": "code",
      "source": [
        "#Convert a 1D array to a 2D array with 2 rows\n",
        "arr = np.arange(10)\n",
        "print(arr)\n",
        "arr = arr.reshape(2, 5)\n",
        "print(arr)\n",
        "pass"
      ],
      "metadata": {
        "colab": {
          "base_uri": "https://localhost:8080/"
        },
        "id": "u7B0ZC68OqMr",
        "outputId": "187b081a-d729-4bfe-8d67-df3a769dbb04"
      },
      "execution_count": 10,
      "outputs": [
        {
          "output_type": "stream",
          "name": "stdout",
          "text": [
            "[0 1 2 3 4 5 6 7 8 9]\n",
            "[[0 1 2 3 4]\n",
            " [5 6 7 8 9]]\n"
          ]
        }
      ]
    },
    {
      "cell_type": "code",
      "source": [
        "#Stack arrays a and b vertically\n",
        "import numpy as np\n",
        "a = np.random.randint(1, 10, size=(3, 3))\n",
        "b = np.random.randint(1, 10, size=(3, 3))\n",
        "\n",
        "print(\"Matriz a:\")\n",
        "print(a)\n",
        "print(\"Matriz b:\")\n",
        "print(b)\n",
        "\n",
        "# Apilar verticalmente las dos matrices\n",
        "c = np.vstack((a, b))\n",
        "\n",
        "print(\"Matriz c:\")\n",
        "print(c)\n",
        "print('----')\n",
        "c=np.random.randint(low=4,high=12,size=(2,2))\n",
        "d=np.random.randint(low=1,high=8,size=(2,2))\n",
        "aux=np.vstack((c,d))\n",
        "print(aux)\n",
        "pass"
      ],
      "metadata": {
        "colab": {
          "base_uri": "https://localhost:8080/"
        },
        "id": "ZGgd2QRfOvVD",
        "outputId": "0048263b-3781-40c2-bdf0-22ca5946b891"
      },
      "execution_count": 11,
      "outputs": [
        {
          "output_type": "stream",
          "name": "stdout",
          "text": [
            "Matriz a:\n",
            "[[9 4 2]\n",
            " [6 5 6]\n",
            " [6 6 5]]\n",
            "Matriz b:\n",
            "[[3 9 3]\n",
            " [3 1 7]\n",
            " [3 5 9]]\n",
            "Matriz c:\n",
            "[[9 4 2]\n",
            " [6 5 6]\n",
            " [6 6 5]\n",
            " [3 9 3]\n",
            " [3 1 7]\n",
            " [3 5 9]]\n",
            "----\n",
            "[[ 8  7]\n",
            " [11  4]\n",
            " [ 6  7]\n",
            " [ 6  1]]\n"
          ]
        }
      ]
    },
    {
      "cell_type": "code",
      "source": [
        "#Stack the arrays a and b horizontally\n",
        "aux=np.hstack((c,d))\n",
        "print(aux)\n",
        "pass"
      ],
      "metadata": {
        "colab": {
          "base_uri": "https://localhost:8080/"
        },
        "id": "ZZTc4338O0Ra",
        "outputId": "73d95215-6c1f-4001-ae19-2d60dedb25b0"
      },
      "execution_count": 12,
      "outputs": [
        {
          "output_type": "stream",
          "name": "stdout",
          "text": [
            "[[ 8  7  6  7]\n",
            " [11  4  6  1]]\n"
          ]
        }
      ]
    },
    {
      "cell_type": "code",
      "source": [
        "#Get all items between 5 and 10 from a\n",
        "import numpy as np\n",
        "arr = np.arange(10)\n",
        "# Get all items between 5 and 10\n",
        "result = arr[arr >= 5]\n",
        "print(result)\n",
        "pass"
      ],
      "metadata": {
        "colab": {
          "base_uri": "https://localhost:8080/"
        },
        "id": "hHthbiuFO6nB",
        "outputId": "830c5e5d-c2fb-4f85-cf02-e8400c4f4d8c"
      },
      "execution_count": 13,
      "outputs": [
        {
          "output_type": "stream",
          "name": "stdout",
          "text": [
            "[5 6 7 8 9]\n"
          ]
        }
      ]
    },
    {
      "cell_type": "code",
      "source": [
        "#How to make a python function that handles scalars to work on numpy arrays\n",
        " # Hint\n",
        "# Desired Output:\n",
        "# a = np.array([5, 7, 9, 8, 6, 4, 5])\n",
        "# b = np.array([6, 3, 4, 8, 9, 7, 1])\n",
        "# #> array([ 6.,  7.,  9.,  8.,  9.,  7.,  5.])\n",
        "import numpy as np\n",
        "\n",
        "def maxx(x, y):\n",
        "    \"\"\"Get the maximum of two items\"\"\"\n",
        "    if x >= y:\n",
        "        return x\n",
        "    else:\n",
        "        return y\n",
        "a = np.array([5, 7, 9, 8, 6, 4, 5])\n",
        "b = np.array([6, 3, 4, 8, 9, 7, 1])\n",
        "#maxx(a, b)\n",
        "tmp=list()\n",
        "for i in range(7):\n",
        "  tmp.append(maxx(a[i],b[i]))\n",
        "print(tmp)\n",
        "\n"
      ],
      "metadata": {
        "colab": {
          "base_uri": "https://localhost:8080/"
        },
        "id": "G0hundwHO8LZ",
        "outputId": "4639318e-b2b4-4747-b9b9-3ba23477e41e"
      },
      "execution_count": 14,
      "outputs": [
        {
          "output_type": "stream",
          "name": "stdout",
          "text": [
            "[6, 7, 9, 8, 9, 7, 5]\n"
          ]
        }
      ]
    },
    {
      "cell_type": "code",
      "source": [
        "#Swap columns 1 and 2 in the array arr\n",
        "# Hint\n",
        "# Desired Output:\n",
        "# [[0 2 1]\n",
        "#  [3 5 4]\n",
        "#  [6 8 7]]\n",
        "b=np.zeros((4,6))\n",
        "b\n",
        "print(b.shape)\n",
        "print(b)\n",
        "b[3,3]=120\n",
        "print (b)\n",
        "print(b[:,[2,3]])\n",
        "#print (b)\n",
        "\n",
        "#invertir\n",
        "print (b)\n",
        "print(b[:,[3,2]])\n",
        "#print (b)\n",
        "pass\n",
        " #[[0 1 2]\n",
        " #[3 4 5]\n",
        "# [6 7 8]]\n"
      ],
      "metadata": {
        "colab": {
          "base_uri": "https://localhost:8080/"
        },
        "id": "FfO5BvSbPDrx",
        "outputId": "17e33034-bc73-4db3-a71b-357ae2e4891c"
      },
      "execution_count": 15,
      "outputs": [
        {
          "output_type": "stream",
          "name": "stdout",
          "text": [
            "(4, 6)\n",
            "[[0. 0. 0. 0. 0. 0.]\n",
            " [0. 0. 0. 0. 0. 0.]\n",
            " [0. 0. 0. 0. 0. 0.]\n",
            " [0. 0. 0. 0. 0. 0.]]\n",
            "[[  0.   0.   0.   0.   0.   0.]\n",
            " [  0.   0.   0.   0.   0.   0.]\n",
            " [  0.   0.   0.   0.   0.   0.]\n",
            " [  0.   0.   0. 120.   0.   0.]]\n",
            "[[  0.   0.]\n",
            " [  0.   0.]\n",
            " [  0.   0.]\n",
            " [  0. 120.]]\n",
            "[[  0.   0.   0.   0.   0.   0.]\n",
            " [  0.   0.   0.   0.   0.   0.]\n",
            " [  0.   0.   0.   0.   0.   0.]\n",
            " [  0.   0.   0. 120.   0.   0.]]\n",
            "[[  0.   0.]\n",
            " [  0.   0.]\n",
            " [  0.   0.]\n",
            " [120.   0.]]\n"
          ]
        }
      ]
    },
    {
      "cell_type": "code",
      "source": [
        "#Create a 2D array of shape 5x3 to contain random decimal numbers between\n",
        "# Crear una matriz de 5x3 con números decimales aleatorios entre 5 y 10\n",
        "import numpy as np\n",
        "matriz = [[np.random.uniform(5, 10) for j in range(3)] for i in range(5)]\n",
        "print(\"Matriz de números decimales aleatorios:\")\n",
        "for fila in matriz:\n",
        "    print(fila)\n",
        "# The desired Output should be like the following one:\n",
        "#  [[ 8.50061025  9.10531502  6.85867783]\n",
        "#   [ 9.76262069  9.87717411  7.13466701]\n",
        "#   [ 7.48966403  8.33409158  6.16808631]\n",
        "#   [ 7.75010551  9.94535696  5.27373226]\n",
        "#   [ 8.0850361   5.56165518  7.31244004]]"
      ],
      "metadata": {
        "colab": {
          "base_uri": "https://localhost:8080/"
        },
        "id": "I7aQVewzPIE0",
        "outputId": "d251cd31-9022-4047-b198-afc771e90bc1"
      },
      "execution_count": 16,
      "outputs": [
        {
          "output_type": "stream",
          "name": "stdout",
          "text": [
            "Matriz de números decimales aleatorios:\n",
            "[5.361481517943216, 9.926591592423796, 7.972139665199014]\n",
            "[5.065929352218227, 5.5879825293362, 9.094564068651259]\n",
            "[7.413084655979306, 5.862367862749026, 9.929086401428414]\n",
            "[6.941706421178846, 9.934754986759629, 9.054742552674938]\n",
            "[7.70978309339621, 6.436039505059048, 6.803575725004676]\n"
          ]
        }
      ]
    }
  ]
}