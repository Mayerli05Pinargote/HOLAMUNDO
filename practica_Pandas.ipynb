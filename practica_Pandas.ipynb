{
  "nbformat": 4,
  "nbformat_minor": 0,
  "metadata": {
    "colab": {
      "provenance": [],
      "authorship_tag": "ABX9TyPMTtCXV0ANXf/DRuXMKENy",
      "include_colab_link": true
    },
    "kernelspec": {
      "name": "python3",
      "display_name": "Python 3"
    },
    "language_info": {
      "name": "python"
    }
  },
  "cells": [
    {
      "cell_type": "markdown",
      "metadata": {
        "id": "view-in-github",
        "colab_type": "text"
      },
      "source": [
        "<a href=\"https://colab.research.google.com/github/Mayerli05Pinargote/HOLAMUNDO/blob/main/practica_Pandas.ipynb\" target=\"_parent\"><img src=\"https://colab.research.google.com/assets/colab-badge.svg\" alt=\"Open In Colab\"/></a>"
      ]
    },
    {
      "cell_type": "markdown",
      "source": [
        "EJERCICIO DE PANDAS"
      ],
      "metadata": {
        "id": "H4OHmiBzHmWq"
      }
    },
    {
      "cell_type": "code",
      "execution_count": 31,
      "metadata": {
        "colab": {
          "base_uri": "https://localhost:8080/"
        },
        "id": "NZI94MZnE-gY",
        "outputId": "914a8d9b-69ee-4929-bf76-2cb3cd7c6f04"
      },
      "outputs": [
        {
          "output_type": "stream",
          "name": "stdout",
          "text": [
            "   station_id       stationname        date daytype  rides\n",
            "0       41280    Jefferson Park  12/22/2017       W   6104\n",
            "1       41000  Cermak-Chinatown  12/18/2017       W   3636\n",
            "2       40280      Central-Lake  12/02/2017       A   1270\n",
            "3       40140   Dempster-Skokie  12/19/2017       W   1759\n",
            "4       40690          Dempster  12/03/2017       U    499\n",
            "(1145586, 5)\n"
          ]
        }
      ],
      "source": [
        "url='https://raw.githubusercontent.com/Sinchiguano/ai_googleColab/main/smallDataset/movies.csv'   #importa base de datos\n",
        "# Use this line to load the dataset.\n",
        "url='https://raw.githubusercontent.com/Sinchiguano/chicagoUniversity/main/cta_Ridership.csv'\n",
        "import pandas as pd\n",
        "data = pd.read_csv(url)\n",
        "print (data.head(5))  #imprime los 5 primeros valores\n",
        "print (data.shape) #da la cantidad de datos que tiene la bd\n"
      ]
    },
    {
      "cell_type": "code",
      "source": [
        "print (data.tail(5))  #imprime los 5 ultimos valores"
      ],
      "metadata": {
        "colab": {
          "base_uri": "https://localhost:8080/"
        },
        "id": "0FfM4temLGeq",
        "outputId": "d55c422e-8ae4-49fc-f316-ee64db4ec055"
      },
      "execution_count": 32,
      "outputs": [
        {
          "output_type": "stream",
          "name": "stdout",
          "text": [
            "         station_id        stationname        date daytype  rides\n",
            "1145581       41700  Washington/Wabash  12/27/2022       W   3991\n",
            "1145582       41700  Washington/Wabash  12/28/2022       W   4100\n",
            "1145583       41700  Washington/Wabash  12/29/2022       W   4741\n",
            "1145584       41700  Washington/Wabash  12/30/2022       W   4664\n",
            "1145585       41700  Washington/Wabash  12/31/2022       A   2774\n"
          ]
        }
      ]
    },
    {
      "cell_type": "markdown",
      "source": [
        "informacion de base de datos [texto del vínculo](https://)"
      ],
      "metadata": {
        "id": "YqY1li64LdUa"
      }
    },
    {
      "cell_type": "code",
      "source": [
        "data.info"
      ],
      "metadata": {
        "colab": {
          "base_uri": "https://localhost:8080/"
        },
        "id": "i7DkFW4ALUsZ",
        "outputId": "703b581c-5b2e-48a3-d75b-037b0a52f033"
      },
      "execution_count": 33,
      "outputs": [
        {
          "output_type": "execute_result",
          "data": {
            "text/plain": [
              "<bound method DataFrame.info of          station_id        stationname        date daytype  rides\n",
              "0             41280     Jefferson Park  12/22/2017       W   6104\n",
              "1             41000   Cermak-Chinatown  12/18/2017       W   3636\n",
              "2             40280       Central-Lake  12/02/2017       A   1270\n",
              "3             40140    Dempster-Skokie  12/19/2017       W   1759\n",
              "4             40690           Dempster  12/03/2017       U    499\n",
              "...             ...                ...         ...     ...    ...\n",
              "1145581       41700  Washington/Wabash  12/27/2022       W   3991\n",
              "1145582       41700  Washington/Wabash  12/28/2022       W   4100\n",
              "1145583       41700  Washington/Wabash  12/29/2022       W   4741\n",
              "1145584       41700  Washington/Wabash  12/30/2022       W   4664\n",
              "1145585       41700  Washington/Wabash  12/31/2022       A   2774\n",
              "\n",
              "[1145586 rows x 5 columns]>"
            ]
          },
          "metadata": {},
          "execution_count": 33
        }
      ]
    },
    {
      "cell_type": "markdown",
      "source": [
        "imprime caracteriaticas de las columnas"
      ],
      "metadata": {
        "id": "FP0NigmILsOA"
      }
    },
    {
      "cell_type": "code",
      "source": [
        "data.columns"
      ],
      "metadata": {
        "colab": {
          "base_uri": "https://localhost:8080/"
        },
        "id": "IpEe5JxjLqI5",
        "outputId": "9db7a0de-6d9b-4ceb-e038-4b2ecab6a272"
      },
      "execution_count": 34,
      "outputs": [
        {
          "output_type": "execute_result",
          "data": {
            "text/plain": [
              "Index(['station_id', 'stationname', 'date', 'daytype', 'rides'], dtype='object')"
            ]
          },
          "metadata": {},
          "execution_count": 34
        }
      ]
    },
    {
      "cell_type": "markdown",
      "source": [
        "numero de indice"
      ],
      "metadata": {
        "id": "6xGwMh-KL6tA"
      }
    },
    {
      "cell_type": "code",
      "source": [
        "data.index"
      ],
      "metadata": {
        "colab": {
          "base_uri": "https://localhost:8080/"
        },
        "id": "LrKk977zL5nB",
        "outputId": "55b19eb1-71d1-468b-c408-aba57f42d575"
      },
      "execution_count": 35,
      "outputs": [
        {
          "output_type": "execute_result",
          "data": {
            "text/plain": [
              "RangeIndex(start=0, stop=1145586, step=1)"
            ]
          },
          "metadata": {},
          "execution_count": 35
        }
      ]
    },
    {
      "cell_type": "markdown",
      "source": [
        "si dice step=1 signifca que la cantidad dada es de 1 en uno\n",
        "si dece step = 2 significa que va de dos en dos y si sucesivamente"
      ],
      "metadata": {
        "id": "g6LJXwIAMhRn"
      }
    },
    {
      "cell_type": "markdown",
      "source": [
        "informacion basica estadistica\n",
        "descripcion de la bd\n",
        "\n"
      ],
      "metadata": {
        "id": "7NpCdIAyL_rp"
      }
    },
    {
      "cell_type": "code",
      "source": [
        "data.describe"
      ],
      "metadata": {
        "colab": {
          "base_uri": "https://localhost:8080/"
        },
        "id": "2Q-YGs5-Mvc0",
        "outputId": "f4b4d47f-4416-4888-f970-a09fee41f048"
      },
      "execution_count": 36,
      "outputs": [
        {
          "output_type": "execute_result",
          "data": {
            "text/plain": [
              "<bound method NDFrame.describe of          station_id        stationname        date daytype  rides\n",
              "0             41280     Jefferson Park  12/22/2017       W   6104\n",
              "1             41000   Cermak-Chinatown  12/18/2017       W   3636\n",
              "2             40280       Central-Lake  12/02/2017       A   1270\n",
              "3             40140    Dempster-Skokie  12/19/2017       W   1759\n",
              "4             40690           Dempster  12/03/2017       U    499\n",
              "...             ...                ...         ...     ...    ...\n",
              "1145581       41700  Washington/Wabash  12/27/2022       W   3991\n",
              "1145582       41700  Washington/Wabash  12/28/2022       W   4100\n",
              "1145583       41700  Washington/Wabash  12/29/2022       W   4741\n",
              "1145584       41700  Washington/Wabash  12/30/2022       W   4664\n",
              "1145585       41700  Washington/Wabash  12/31/2022       A   2774\n",
              "\n",
              "[1145586 rows x 5 columns]>"
            ]
          },
          "metadata": {},
          "execution_count": 36
        }
      ]
    },
    {
      "cell_type": "markdown",
      "source": [
        "filtrado de datos, revisar datos errores\n",
        "si sale true significa que hay datos erroneos\n",
        "si sale false significa que hay datos erroneos"
      ],
      "metadata": {
        "id": "hII72aWwNF8Z"
      }
    },
    {
      "cell_type": "code",
      "source": [
        "data.isnull().any()"
      ],
      "metadata": {
        "colab": {
          "base_uri": "https://localhost:8080/"
        },
        "id": "uTHRTwq4NLwT",
        "outputId": "5c3b5168-eccc-4e52-8ebb-1bcaa6996fd9"
      },
      "execution_count": 37,
      "outputs": [
        {
          "output_type": "execute_result",
          "data": {
            "text/plain": [
              "station_id     False\n",
              "stationname    False\n",
              "date           False\n",
              "daytype        False\n",
              "rides          False\n",
              "dtype: bool"
            ]
          },
          "metadata": {},
          "execution_count": 37
        }
      ]
    },
    {
      "cell_type": "code",
      "source": [
        "data.head(5)"
      ],
      "metadata": {
        "colab": {
          "base_uri": "https://localhost:8080/",
          "height": 206
        },
        "id": "ziKmRNF3O17a",
        "outputId": "fa2dfcd3-f9fe-4da1-ba5e-7d03e21cb7cf"
      },
      "execution_count": 42,
      "outputs": [
        {
          "output_type": "execute_result",
          "data": {
            "text/plain": [
              "   station_id       stationname        date daytype  rides\n",
              "0       41280    Jefferson Park  12/22/2017       W   6104\n",
              "1       41000  Cermak-Chinatown  12/18/2017       W   3636\n",
              "2       40280      Central-Lake  12/02/2017       A   1270\n",
              "3       40140   Dempster-Skokie  12/19/2017       W   1759\n",
              "4       40690          Dempster  12/03/2017       U    499"
            ],
            "text/html": [
              "\n",
              "  <div id=\"df-0dccb4fa-f1b9-41b6-9b7c-3fb0838dd79d\">\n",
              "    <div class=\"colab-df-container\">\n",
              "      <div>\n",
              "<style scoped>\n",
              "    .dataframe tbody tr th:only-of-type {\n",
              "        vertical-align: middle;\n",
              "    }\n",
              "\n",
              "    .dataframe tbody tr th {\n",
              "        vertical-align: top;\n",
              "    }\n",
              "\n",
              "    .dataframe thead th {\n",
              "        text-align: right;\n",
              "    }\n",
              "</style>\n",
              "<table border=\"1\" class=\"dataframe\">\n",
              "  <thead>\n",
              "    <tr style=\"text-align: right;\">\n",
              "      <th></th>\n",
              "      <th>station_id</th>\n",
              "      <th>stationname</th>\n",
              "      <th>date</th>\n",
              "      <th>daytype</th>\n",
              "      <th>rides</th>\n",
              "    </tr>\n",
              "  </thead>\n",
              "  <tbody>\n",
              "    <tr>\n",
              "      <th>0</th>\n",
              "      <td>41280</td>\n",
              "      <td>Jefferson Park</td>\n",
              "      <td>12/22/2017</td>\n",
              "      <td>W</td>\n",
              "      <td>6104</td>\n",
              "    </tr>\n",
              "    <tr>\n",
              "      <th>1</th>\n",
              "      <td>41000</td>\n",
              "      <td>Cermak-Chinatown</td>\n",
              "      <td>12/18/2017</td>\n",
              "      <td>W</td>\n",
              "      <td>3636</td>\n",
              "    </tr>\n",
              "    <tr>\n",
              "      <th>2</th>\n",
              "      <td>40280</td>\n",
              "      <td>Central-Lake</td>\n",
              "      <td>12/02/2017</td>\n",
              "      <td>A</td>\n",
              "      <td>1270</td>\n",
              "    </tr>\n",
              "    <tr>\n",
              "      <th>3</th>\n",
              "      <td>40140</td>\n",
              "      <td>Dempster-Skokie</td>\n",
              "      <td>12/19/2017</td>\n",
              "      <td>W</td>\n",
              "      <td>1759</td>\n",
              "    </tr>\n",
              "    <tr>\n",
              "      <th>4</th>\n",
              "      <td>40690</td>\n",
              "      <td>Dempster</td>\n",
              "      <td>12/03/2017</td>\n",
              "      <td>U</td>\n",
              "      <td>499</td>\n",
              "    </tr>\n",
              "  </tbody>\n",
              "</table>\n",
              "</div>\n",
              "      <button class=\"colab-df-convert\" onclick=\"convertToInteractive('df-0dccb4fa-f1b9-41b6-9b7c-3fb0838dd79d')\"\n",
              "              title=\"Convert this dataframe to an interactive table.\"\n",
              "              style=\"display:none;\">\n",
              "        \n",
              "  <svg xmlns=\"http://www.w3.org/2000/svg\" height=\"24px\"viewBox=\"0 0 24 24\"\n",
              "       width=\"24px\">\n",
              "    <path d=\"M0 0h24v24H0V0z\" fill=\"none\"/>\n",
              "    <path d=\"M18.56 5.44l.94 2.06.94-2.06 2.06-.94-2.06-.94-.94-2.06-.94 2.06-2.06.94zm-11 1L8.5 8.5l.94-2.06 2.06-.94-2.06-.94L8.5 2.5l-.94 2.06-2.06.94zm10 10l.94 2.06.94-2.06 2.06-.94-2.06-.94-.94-2.06-.94 2.06-2.06.94z\"/><path d=\"M17.41 7.96l-1.37-1.37c-.4-.4-.92-.59-1.43-.59-.52 0-1.04.2-1.43.59L10.3 9.45l-7.72 7.72c-.78.78-.78 2.05 0 2.83L4 21.41c.39.39.9.59 1.41.59.51 0 1.02-.2 1.41-.59l7.78-7.78 2.81-2.81c.8-.78.8-2.07 0-2.86zM5.41 20L4 18.59l7.72-7.72 1.47 1.35L5.41 20z\"/>\n",
              "  </svg>\n",
              "      </button>\n",
              "      \n",
              "  <style>\n",
              "    .colab-df-container {\n",
              "      display:flex;\n",
              "      flex-wrap:wrap;\n",
              "      gap: 12px;\n",
              "    }\n",
              "\n",
              "    .colab-df-convert {\n",
              "      background-color: #E8F0FE;\n",
              "      border: none;\n",
              "      border-radius: 50%;\n",
              "      cursor: pointer;\n",
              "      display: none;\n",
              "      fill: #1967D2;\n",
              "      height: 32px;\n",
              "      padding: 0 0 0 0;\n",
              "      width: 32px;\n",
              "    }\n",
              "\n",
              "    .colab-df-convert:hover {\n",
              "      background-color: #E2EBFA;\n",
              "      box-shadow: 0px 1px 2px rgba(60, 64, 67, 0.3), 0px 1px 3px 1px rgba(60, 64, 67, 0.15);\n",
              "      fill: #174EA6;\n",
              "    }\n",
              "\n",
              "    [theme=dark] .colab-df-convert {\n",
              "      background-color: #3B4455;\n",
              "      fill: #D2E3FC;\n",
              "    }\n",
              "\n",
              "    [theme=dark] .colab-df-convert:hover {\n",
              "      background-color: #434B5C;\n",
              "      box-shadow: 0px 1px 3px 1px rgba(0, 0, 0, 0.15);\n",
              "      filter: drop-shadow(0px 1px 2px rgba(0, 0, 0, 0.3));\n",
              "      fill: #FFFFFF;\n",
              "    }\n",
              "  </style>\n",
              "\n",
              "      <script>\n",
              "        const buttonEl =\n",
              "          document.querySelector('#df-0dccb4fa-f1b9-41b6-9b7c-3fb0838dd79d button.colab-df-convert');\n",
              "        buttonEl.style.display =\n",
              "          google.colab.kernel.accessAllowed ? 'block' : 'none';\n",
              "\n",
              "        async function convertToInteractive(key) {\n",
              "          const element = document.querySelector('#df-0dccb4fa-f1b9-41b6-9b7c-3fb0838dd79d');\n",
              "          const dataTable =\n",
              "            await google.colab.kernel.invokeFunction('convertToInteractive',\n",
              "                                                     [key], {});\n",
              "          if (!dataTable) return;\n",
              "\n",
              "          const docLinkHtml = 'Like what you see? Visit the ' +\n",
              "            '<a target=\"_blank\" href=https://colab.research.google.com/notebooks/data_table.ipynb>data table notebook</a>'\n",
              "            + ' to learn more about interactive tables.';\n",
              "          element.innerHTML = '';\n",
              "          dataTable['output_type'] = 'display_data';\n",
              "          await google.colab.output.renderOutput(dataTable, element);\n",
              "          const docLink = document.createElement('div');\n",
              "          docLink.innerHTML = docLinkHtml;\n",
              "          element.appendChild(docLink);\n",
              "        }\n",
              "      </script>\n",
              "    </div>\n",
              "  </div>\n",
              "  "
            ]
          },
          "metadata": {},
          "execution_count": 42
        }
      ]
    },
    {
      "cell_type": "markdown",
      "source": [
        "revisar minimos y maximos *texto en cursiva*"
      ],
      "metadata": {
        "id": "IuiTlmCIO_dy"
      }
    },
    {
      "cell_type": "code",
      "source": [
        "valor minimo"
      ],
      "metadata": {
        "id": "h_s2ft2aP8MX"
      },
      "execution_count": null,
      "outputs": []
    },
    {
      "cell_type": "code",
      "source": [
        "data['rides'].min()"
      ],
      "metadata": {
        "colab": {
          "base_uri": "https://localhost:8080/"
        },
        "id": "x9n5tWgyPCGQ",
        "outputId": "202ebc0d-d760-4f13-f683-6438ce956258"
      },
      "execution_count": 43,
      "outputs": [
        {
          "output_type": "execute_result",
          "data": {
            "text/plain": [
              "0"
            ]
          },
          "metadata": {},
          "execution_count": 43
        }
      ]
    },
    {
      "cell_type": "markdown",
      "source": [
        "calcular maximos"
      ],
      "metadata": {
        "id": "8lXEhYr8Pkka"
      }
    },
    {
      "cell_type": "code",
      "source": [
        "data['rides'].max()"
      ],
      "metadata": {
        "colab": {
          "base_uri": "https://localhost:8080/"
        },
        "id": "ZJCxLzvNPo-I",
        "outputId": "a3da70aa-73b3-4732-9f52-9b5f86509893"
      },
      "execution_count": 44,
      "outputs": [
        {
          "output_type": "execute_result",
          "data": {
            "text/plain": [
              "36323"
            ]
          },
          "metadata": {},
          "execution_count": 44
        }
      ]
    },
    {
      "cell_type": "code",
      "source": [
        "pandas"
      ],
      "metadata": {
        "colab": {
          "base_uri": "https://localhost:8080/"
        },
        "id": "WeVUXmzPP--X",
        "outputId": "ac38d401-d492-48b3-d772-42a8536ab394"
      },
      "execution_count": 45,
      "outputs": [
        {
          "output_type": "execute_result",
          "data": {
            "text/plain": [
              "<bound method NDFrame.describe of          station_id        stationname        date daytype  rides\n",
              "0             41280     Jefferson Park  12/22/2017       W   6104\n",
              "1             41000   Cermak-Chinatown  12/18/2017       W   3636\n",
              "2             40280       Central-Lake  12/02/2017       A   1270\n",
              "3             40140    Dempster-Skokie  12/19/2017       W   1759\n",
              "4             40690           Dempster  12/03/2017       U    499\n",
              "...             ...                ...         ...     ...    ...\n",
              "1145581       41700  Washington/Wabash  12/27/2022       W   3991\n",
              "1145582       41700  Washington/Wabash  12/28/2022       W   4100\n",
              "1145583       41700  Washington/Wabash  12/29/2022       W   4741\n",
              "1145584       41700  Washington/Wabash  12/30/2022       W   4664\n",
              "1145585       41700  Washington/Wabash  12/31/2022       A   2774\n",
              "\n",
              "[1145586 rows x 5 columns]>"
            ]
          },
          "metadata": {},
          "execution_count": 45
        }
      ]
    },
    {
      "cell_type": "markdown",
      "source": [
        "calcular promedio de columnas"
      ],
      "metadata": {
        "id": "gbr7c2jHRDEo"
      }
    },
    {
      "cell_type": "code",
      "source": [
        "data['rides'].mean()"
      ],
      "metadata": {
        "colab": {
          "base_uri": "https://localhost:8080/"
        },
        "id": "h1vZ1RJLQzjB",
        "outputId": "957e909c-a879-4909-a017-3eb6d2db3816"
      },
      "execution_count": 46,
      "outputs": [
        {
          "output_type": "execute_result",
          "data": {
            "text/plain": [
              "3056.635315899461"
            ]
          },
          "metadata": {},
          "execution_count": 46
        }
      ]
    },
    {
      "cell_type": "markdown",
      "source": [
        "agrupar"
      ],
      "metadata": {
        "id": "FwDuE8esRMcI"
      }
    }
  ]
}